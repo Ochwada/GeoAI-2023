{
 "cells": [
  {
   "cell_type": "code",
   "execution_count": 10,
   "id": "f52153dc-92c7-4fca-8c05-d92a8e3bd916",
   "metadata": {
    "tags": []
   },
   "outputs": [
    {
     "ename": "ModuleNotFoundError",
     "evalue": "No module named 'convert_files'",
     "output_type": "error",
     "traceback": [
      "\u001b[1;31m---------------------------------------------------------------------------\u001b[0m",
      "\u001b[1;31mModuleNotFoundError\u001b[0m                       Traceback (most recent call last)",
      "Cell \u001b[1;32mIn[10], line 6\u001b[0m\n\u001b[0;32m      3\u001b[0m \u001b[38;5;28;01mimport\u001b[39;00m \u001b[38;5;21;01mmatplotlib\u001b[39;00m\u001b[38;5;21;01m.\u001b[39;00m\u001b[38;5;21;01mpyplot\u001b[39;00m \u001b[38;5;28;01mas\u001b[39;00m \u001b[38;5;21;01mplt\u001b[39;00m\n\u001b[0;32m      5\u001b[0m \u001b[38;5;66;03m# import fuctions from convert.py?\u001b[39;00m\n\u001b[1;32m----> 6\u001b[0m \u001b[38;5;28;01mimport\u001b[39;00m \u001b[38;5;21;01mconvert_files\u001b[39;00m \u001b[38;5;28;01mas\u001b[39;00m \u001b[38;5;21;01mcf\u001b[39;00m\n",
      "\u001b[1;31mModuleNotFoundError\u001b[0m: No module named 'convert_files'"
     ]
    }
   ],
   "source": [
    "import laspy\n",
    "import glob\n",
    "import matplotlib.pyplot as plt\n",
    "\n",
    "# import fuctions from convert.py?\n",
    "import convert_files as cf"
   ]
  },
  {
   "cell_type": "code",
   "execution_count": 2,
   "id": "a1958bbb-9932-4e91-a04c-32e5a6553914",
   "metadata": {
    "tags": []
   },
   "outputs": [],
   "source": [
    "# Open the .laz file\n",
    "las = laspy.read(\"D:/01_Personal_Projects/Projects2023/All_Data/3D_Data/3dm_32_280_5652_1_nw.laz\")\n",
    "\n",
    "\n",
    "# Access the X, Y, and Z coordinates\n",
    "x = las.x\n",
    "y = las.y\n",
    "z = las.z"
   ]
  },
  {
   "cell_type": "code",
   "execution_count": null,
   "id": "b2c494d6-369b-473e-be74-72b0b9078a6a",
   "metadata": {},
   "outputs": [],
   "source": [
    "\n",
    "\n",
    "#from laz2las import convert_laz_to_las\n",
    "\n",
    "input_file = \"D:/01_Personal_Projects/Projects2023/All_Data/3D_Data/3dm_32_280_5652_1_nw.laz\"\n",
    "output_file = \"3dm_32_280_5652_1_nw.las\"\n",
    "\n",
    "laz2las.convert_laz_to_las(input_file, output_file)"
   ]
  },
  {
   "cell_type": "code",
   "execution_count": 3,
   "id": "609696ff-c401-4bb7-8d97-9c91e4050334",
   "metadata": {
    "tags": []
   },
   "outputs": [],
   "source": [
    "# Create a scatter plot\n",
    "#plt.scatter(x, y, s=1, c=z, cmap='viridis')\n",
    "\n",
    "# Set labels and title\n",
    "#plt.xlabel('X')\n",
    "#plt.ylabel('Y')\n",
    "#plt.title('2D Scatter Plot of LiDAR Points')\n",
    "\n",
    "# Show the plot\n",
    "#plt.show()"
   ]
  },
  {
   "cell_type": "code",
   "execution_count": 4,
   "id": "d135db88-7361-4f67-98df-32271a6775b2",
   "metadata": {
    "tags": []
   },
   "outputs": [
    {
     "ename": "ModuleNotFoundError",
     "evalue": "No module named 'laz2las'",
     "output_type": "error",
     "traceback": [
      "\u001b[1;31m---------------------------------------------------------------------------\u001b[0m",
      "\u001b[1;31mModuleNotFoundError\u001b[0m                       Traceback (most recent call last)",
      "Cell \u001b[1;32mIn[4], line 1\u001b[0m\n\u001b[1;32m----> 1\u001b[0m \u001b[38;5;28;01mimport\u001b[39;00m \u001b[38;5;21;01mlaz2las\u001b[39;00m\n\u001b[0;32m      3\u001b[0m \u001b[38;5;66;03m#from laz2las import convert_laz_to_las\u001b[39;00m\n\u001b[0;32m      5\u001b[0m input_file \u001b[38;5;241m=\u001b[39m \u001b[38;5;124m\"\u001b[39m\u001b[38;5;124mD:/01_Personal_Projects/Projects2023/All_Data/3D_Data/3dm_32_280_5652_1_nw.laz\u001b[39m\u001b[38;5;124m\"\u001b[39m\n",
      "\u001b[1;31mModuleNotFoundError\u001b[0m: No module named 'laz2las'"
     ]
    }
   ],
   "source": []
  },
  {
   "cell_type": "code",
   "execution_count": null,
   "id": "0b2a6c27-bd46-48cf-81ec-abb2c9bf7652",
   "metadata": {},
   "outputs": [],
   "source": []
  },
  {
   "cell_type": "code",
   "execution_count": null,
   "id": "706f6b5d-6402-4a06-8323-5f84f8455ac9",
   "metadata": {},
   "outputs": [],
   "source": []
  }
 ],
 "metadata": {
  "kernelspec": {
   "display_name": "Python 3 (ipykernel)",
   "language": "python",
   "name": "python3"
  },
  "language_info": {
   "codemirror_mode": {
    "name": "ipython",
    "version": 3
   },
   "file_extension": ".py",
   "mimetype": "text/x-python",
   "name": "python",
   "nbconvert_exporter": "python",
   "pygments_lexer": "ipython3",
   "version": "3.9.16"
  }
 },
 "nbformat": 4,
 "nbformat_minor": 5
}
