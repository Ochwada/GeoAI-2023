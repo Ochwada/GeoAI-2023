{
 "cells": [
  {
   "cell_type": "code",
   "execution_count": 1,
   "metadata": {},
   "outputs": [],
   "source": [
    "import logging\n",
    "from typing import Union, Optional\n",
    "\n",
    "import geopandas as gpd\n",
    "import pandas as pd\n",
    "import pandera as pa\n",
    "from pandera import Field, SchemaModel, check, dataframe_check\n",
    "from pandera.typing import Series"
   ]
  },
  {
   "cell_type": "code",
   "execution_count": 2,
   "metadata": {},
   "outputs": [],
   "source": [
    "logger = logging.getLogger(__name__)"
   ]
  },
  {
   "cell_type": "code",
   "execution_count": 3,
   "metadata": {},
   "outputs": [],
   "source": [
    "\n",
    "\n",
    "class ClientLines(SchemaModel):\n",
    "    \"\"\"\n",
    "    Client Lines dataset\n",
    "    \"\"\"\n",
    "\n",
    "    geometry: Series[gpd.array.GeometryDtype]\n",
    "    level3: Series[str] = Field(unique=True, description=\"Unique line ID\")\n",
    "    level1: Optional[Series[str]] = Field(nullable=True)\n",
    "    level2: Optional[Series[str]] = Field(nullable=True)\n",
    "    phasingType: Optional[Series[str]] = Field(\n",
    "        isin=[\"single-phase\", \"two-phase\", \"three-phase\"], nullable=True\n",
    "    )\n",
    "\n",
    "    class Config:\n",
    "        name = \"Client lines\"\n",
    "        description = \"Cleaned client lines dataset\"\n",
    "        unique_column_names = True\n",
    "\n",
    "    @check(\"geometry\", name=\"geometry_is_valid\")\n",
    "    def geometry_is_valid(cls, geom: Series[gpd.array.GeometryDtype]) -> Series[bool]:\n",
    "        return geom.is_valid\n",
    "\n",
    "    @check(\"geometry\", name=\"geometry_is_linestring\")\n",
    "    def geometry_is_linestring(\n",
    "        cls, geom: Series[gpd.array.GeometryDtype]\n",
    "    ) -> Series[bool]:\n",
    "        return geom.geom_type == \"LineString\"\n",
    "\n",
    "    @dataframe_check\n",
    "    def dataframe_in_utm(cls, gdf: gpd.GeoDataFrame) -> Series[bool]:\n",
    "        \"\"\"Ensure dataframe CRS is in UTM\"\"\"\n",
    "        return gdf.estimate_utm_crs() == gdf.crs"
   ]
  },
  {
   "cell_type": "code",
   "execution_count": 4,
   "metadata": {},
   "outputs": [],
   "source": [
    "MIN_LINE_LENGTH_IN_M = 2  # Default minimum span length\n",
    "\n",
    "def validate(gdf: gpd.GeoDataFrame, schema):\n",
    "    try:\n",
    "        return schema.validate(gdf, lazy=True)\n",
    "    except pa.errors.SchemaErrors as err:\n",
    "        logger.error(err.failure_cases)\n",
    "\n",
    "def validate_client_poles(gdf: gpd.GeoDataFrame):\n",
    "    try:\n",
    "        return ClientPoles.validate(gdf, lazy=True)\n",
    "    except pa.errors.SchemaErrors as err:\n",
    "        logger.error(err.failure_cases)\n",
    "        assert False, \"Validation failed.\"\n",
    "\n",
    "\n",
    "def validate_client_lines(\n",
    "    gdf: gpd.GeoDataFrame, min_line_length_in_m: float = MIN_LINE_LENGTH_IN_M\n",
    "):\n",
    "    try:\n",
    "        geometry_column = pa.Column(\n",
    "            gpd.array.GeometryDtype,\n",
    "            name=\"geometry\",\n",
    "            checks=pa.Check(\n",
    "                lambda x: x.length > min_line_length_in_m,\n",
    "                error=\"Line should meet minimum line length.\",\n",
    "                name=\"geometry_min_length\",\n",
    "            ),\n",
    "        )\n",
    "        geometry_column.validate(gdf, lazy=True)\n",
    "        return ClientLines.validate(gdf, lazy=True)\n",
    "    except pa.errors.SchemaErrors as err:\n",
    "        logger.error(err.failure_cases)\n",
    "        assert False, \"Validation failed.\""
   ]
  },
  {
   "cell_type": "code",
   "execution_count": 5,
   "metadata": {},
   "outputs": [
    {
     "data": {
      "text/html": [
       "<div>\n",
       "<style scoped>\n",
       "    .dataframe tbody tr th:only-of-type {\n",
       "        vertical-align: middle;\n",
       "    }\n",
       "\n",
       "    .dataframe tbody tr th {\n",
       "        vertical-align: top;\n",
       "    }\n",
       "\n",
       "    .dataframe thead th {\n",
       "        text-align: right;\n",
       "    }\n",
       "</style>\n",
       "<table border=\"1\" class=\"dataframe\">\n",
       "  <thead>\n",
       "    <tr style=\"text-align: right;\">\n",
       "      <th></th>\n",
       "      <th>level1</th>\n",
       "      <th>level2</th>\n",
       "      <th>level3</th>\n",
       "      <th>phasingType</th>\n",
       "      <th>pointA</th>\n",
       "      <th>pointB</th>\n",
       "      <th>lineHeightInFt</th>\n",
       "      <th>geometry</th>\n",
       "    </tr>\n",
       "  </thead>\n",
       "  <tbody>\n",
       "    <tr>\n",
       "      <th>0</th>\n",
       "      <td>AOI2</td>\n",
       "      <td>East12th</td>\n",
       "      <td>EA100</td>\n",
       "      <td>N/A</td>\n",
       "      <td>206</td>\n",
       "      <td>402.0</td>\n",
       "      <td>35</td>\n",
       "      <td>LINESTRING (505131.847 4398320.697, 505188.789...</td>\n",
       "    </tr>\n",
       "    <tr>\n",
       "      <th>1</th>\n",
       "      <td>AOI2</td>\n",
       "      <td>East12th</td>\n",
       "      <td>EA101</td>\n",
       "      <td>three-phase</td>\n",
       "      <td>206</td>\n",
       "      <td>207.0</td>\n",
       "      <td>35</td>\n",
       "      <td>LINESTRING (505188.789 4398319.902, 505229.010...</td>\n",
       "    </tr>\n",
       "    <tr>\n",
       "      <th>2</th>\n",
       "      <td>AOI2</td>\n",
       "      <td>East12th</td>\n",
       "      <td>EA102</td>\n",
       "      <td>three-phase</td>\n",
       "      <td>207</td>\n",
       "      <td>209.0</td>\n",
       "      <td>35</td>\n",
       "      <td>LINESTRING (505229.010 4398319.412, 505229.638...</td>\n",
       "    </tr>\n",
       "    <tr>\n",
       "      <th>3</th>\n",
       "      <td>AOI2</td>\n",
       "      <td>East12th</td>\n",
       "      <td>EA103</td>\n",
       "      <td>three-phase</td>\n",
       "      <td>209</td>\n",
       "      <td>211.0</td>\n",
       "      <td>35</td>\n",
       "      <td>LINESTRING (505229.638 4398265.080, 505229.506...</td>\n",
       "    </tr>\n",
       "    <tr>\n",
       "      <th>4</th>\n",
       "      <td>AOI2</td>\n",
       "      <td>East12th</td>\n",
       "      <td>EA104</td>\n",
       "      <td>three-phase</td>\n",
       "      <td>211</td>\n",
       "      <td>213.0</td>\n",
       "      <td>35</td>\n",
       "      <td>LINESTRING (505229.506 4398235.136, 505229.746...</td>\n",
       "    </tr>\n",
       "  </tbody>\n",
       "</table>\n",
       "</div>"
      ],
      "text/plain": [
       "  level1    level2 level3  phasingType  pointA  pointB  lineHeightInFt  \\\n",
       "0   AOI2  East12th  EA100          N/A     206   402.0              35   \n",
       "1   AOI2  East12th  EA101  three-phase     206   207.0              35   \n",
       "2   AOI2  East12th  EA102  three-phase     207   209.0              35   \n",
       "3   AOI2  East12th  EA103  three-phase     209   211.0              35   \n",
       "4   AOI2  East12th  EA104  three-phase     211   213.0              35   \n",
       "\n",
       "                                            geometry  \n",
       "0  LINESTRING (505131.847 4398320.697, 505188.789...  \n",
       "1  LINESTRING (505188.789 4398319.902, 505229.010...  \n",
       "2  LINESTRING (505229.010 4398319.412, 505229.638...  \n",
       "3  LINESTRING (505229.638 4398265.080, 505229.506...  \n",
       "4  LINESTRING (505229.506 4398235.136, 505229.746...  "
      ]
     },
     "execution_count": 5,
     "metadata": {},
     "output_type": "execute_result"
    }
   ],
   "source": [
    "lines = gpd.read_file('https://storage.googleapis.com/overstory-customer-test/take_home_exercise/demo_lines.geojson')\n",
    "lines.head()\n",
    "#validate_client_lines(lines)"
   ]
  },
  {
   "attachments": {},
   "cell_type": "markdown",
   "metadata": {},
   "source": [
    "# Error caused by either: \n",
    "#### 1.  One or more columns in the dataframe doest adhere to the schema specified in the function.\n",
    "#### 2. The phasingType column does not contain only the values 'single-phase', 'two-phase', and 'three-phase'\n",
    "#### 3. There might be a data type inconsistency"
   ]
  },
  {
   "cell_type": "code",
   "execution_count": 6,
   "metadata": {},
   "outputs": [
    {
     "name": "stdout",
     "output_type": "stream",
     "text": [
      "All geometries valid: True\n"
     ]
    }
   ],
   "source": [
    "# Checking if all geometries are valid\n",
    "geo_lines_valid = lines['geometry'].is_valid\n",
    "geometryLines_valid = geo_lines_valid .all()\n",
    "\n",
    "print(f\"All geometries valid: {geometryLines_valid}\")"
   ]
  },
  {
   "cell_type": "code",
   "execution_count": 7,
   "metadata": {},
   "outputs": [
    {
     "name": "stdout",
     "output_type": "stream",
     "text": [
      "All geometries are LineStrings: True\n"
     ]
    }
   ],
   "source": [
    "# lines.crs \n",
    "from pandas import Series\n",
    "\n",
    "def geometry_is_linestring(geom: gpd.GeoSeries) -> bool:\n",
    "    return (geom.geom_type == \"LineString\").all()\n",
    "\n",
    "\n",
    "all_linestrings = geometry_is_linestring(lines['geometry'])\n",
    "\n",
    "print(f\"All geometries are LineStrings: {all_linestrings}\")"
   ]
  },
  {
   "cell_type": "code",
   "execution_count": 8,
   "metadata": {},
   "outputs": [
    {
     "data": {
      "text/plain": [
       "<Projected CRS: EPSG:32613>\n",
       "Name: WGS 84 / UTM zone 13N\n",
       "Axis Info [cartesian]:\n",
       "- E[east]: Easting (metre)\n",
       "- N[north]: Northing (metre)\n",
       "Area of Use:\n",
       "- name: Between 108°W and 102°W, northern hemisphere between equator and 84°N, onshore and offshore. Canada - Northwest Territories (NWT); Nunavut; Saskatchewan. Mexico. United States (USA).\n",
       "- bounds: (-108.0, 0.0, -102.0, 84.0)\n",
       "Coordinate Operation:\n",
       "- name: UTM zone 13N\n",
       "- method: Transverse Mercator\n",
       "Datum: World Geodetic System 1984 ensemble\n",
       "- Ellipsoid: WGS 84\n",
       "- Prime Meridian: Greenwich"
      ]
     },
     "execution_count": 8,
     "metadata": {},
     "output_type": "execute_result"
    }
   ],
   "source": [
    "lines.crs "
   ]
  },
  {
   "cell_type": "code",
   "execution_count": 9,
   "metadata": {},
   "outputs": [
    {
     "name": "stdout",
     "output_type": "stream",
     "text": [
      "['N/A' 'three-phase' 'single-phase' 'two-phase']\n"
     ]
    }
   ],
   "source": [
    "#### 2. The phasingType column does not contain only the values 'single-phase', 'two-phase', and 'three-phase'\n",
    "# checking if there is any other value apart from the said value (above)\n",
    "\n",
    "print(lines['phasingType'].unique())"
   ]
  },
  {
   "cell_type": "code",
   "execution_count": 10,
   "metadata": {},
   "outputs": [
    {
     "data": {
      "text/plain": [
       "1"
      ]
     },
     "execution_count": 10,
     "metadata": {},
     "output_type": "execute_result"
    }
   ],
   "source": [
    "# How many entries have 'N/A'\n",
    "null_values= lines.loc[lines['phasingType'] == 'N/A']\n",
    "len(null_values)"
   ]
  },
  {
   "cell_type": "code",
   "execution_count": 11,
   "metadata": {},
   "outputs": [
    {
     "data": {
      "text/html": [
       "<div>\n",
       "<style scoped>\n",
       "    .dataframe tbody tr th:only-of-type {\n",
       "        vertical-align: middle;\n",
       "    }\n",
       "\n",
       "    .dataframe tbody tr th {\n",
       "        vertical-align: top;\n",
       "    }\n",
       "\n",
       "    .dataframe thead th {\n",
       "        text-align: right;\n",
       "    }\n",
       "</style>\n",
       "<table border=\"1\" class=\"dataframe\">\n",
       "  <thead>\n",
       "    <tr style=\"text-align: right;\">\n",
       "      <th></th>\n",
       "      <th>level1</th>\n",
       "      <th>level2</th>\n",
       "      <th>level3</th>\n",
       "      <th>phasingType</th>\n",
       "      <th>pointA</th>\n",
       "      <th>pointB</th>\n",
       "      <th>lineHeightInFt</th>\n",
       "      <th>geometry</th>\n",
       "    </tr>\n",
       "  </thead>\n",
       "  <tbody>\n",
       "    <tr>\n",
       "      <th>1</th>\n",
       "      <td>AOI2</td>\n",
       "      <td>East12th</td>\n",
       "      <td>EA101</td>\n",
       "      <td>three-phase</td>\n",
       "      <td>206</td>\n",
       "      <td>207.0</td>\n",
       "      <td>35</td>\n",
       "      <td>LINESTRING (505188.789 4398319.902, 505229.010...</td>\n",
       "    </tr>\n",
       "    <tr>\n",
       "      <th>2</th>\n",
       "      <td>AOI2</td>\n",
       "      <td>East12th</td>\n",
       "      <td>EA102</td>\n",
       "      <td>three-phase</td>\n",
       "      <td>207</td>\n",
       "      <td>209.0</td>\n",
       "      <td>35</td>\n",
       "      <td>LINESTRING (505229.010 4398319.412, 505229.638...</td>\n",
       "    </tr>\n",
       "    <tr>\n",
       "      <th>3</th>\n",
       "      <td>AOI2</td>\n",
       "      <td>East12th</td>\n",
       "      <td>EA103</td>\n",
       "      <td>three-phase</td>\n",
       "      <td>209</td>\n",
       "      <td>211.0</td>\n",
       "      <td>35</td>\n",
       "      <td>LINESTRING (505229.638 4398265.080, 505229.506...</td>\n",
       "    </tr>\n",
       "    <tr>\n",
       "      <th>4</th>\n",
       "      <td>AOI2</td>\n",
       "      <td>East12th</td>\n",
       "      <td>EA104</td>\n",
       "      <td>three-phase</td>\n",
       "      <td>211</td>\n",
       "      <td>213.0</td>\n",
       "      <td>35</td>\n",
       "      <td>LINESTRING (505229.506 4398235.136, 505229.746...</td>\n",
       "    </tr>\n",
       "    <tr>\n",
       "      <th>5</th>\n",
       "      <td>AOI2</td>\n",
       "      <td>East12th</td>\n",
       "      <td>EA105</td>\n",
       "      <td>three-phase</td>\n",
       "      <td>213</td>\n",
       "      <td>406.0</td>\n",
       "      <td>35</td>\n",
       "      <td>LINESTRING (505229.746 4398199.608, 505229.932...</td>\n",
       "    </tr>\n",
       "    <tr>\n",
       "      <th>...</th>\n",
       "      <td>...</td>\n",
       "      <td>...</td>\n",
       "      <td>...</td>\n",
       "      <td>...</td>\n",
       "      <td>...</td>\n",
       "      <td>...</td>\n",
       "      <td>...</td>\n",
       "      <td>...</td>\n",
       "    </tr>\n",
       "    <tr>\n",
       "      <th>266</th>\n",
       "      <td>AOI2</td>\n",
       "      <td>Elm</td>\n",
       "      <td>E63</td>\n",
       "      <td>single-phase</td>\n",
       "      <td>64</td>\n",
       "      <td>65.0</td>\n",
       "      <td>35</td>\n",
       "      <td>LINESTRING (506204.459 4400170.652, 506206.135...</td>\n",
       "    </tr>\n",
       "    <tr>\n",
       "      <th>267</th>\n",
       "      <td>AOI2</td>\n",
       "      <td>Elm</td>\n",
       "      <td>E64</td>\n",
       "      <td>single-phase</td>\n",
       "      <td>65</td>\n",
       "      <td>66.0</td>\n",
       "      <td>35</td>\n",
       "      <td>LINESTRING (506206.135 4400139.905, 506205.529...</td>\n",
       "    </tr>\n",
       "    <tr>\n",
       "      <th>268</th>\n",
       "      <td>AOI2</td>\n",
       "      <td>Elm</td>\n",
       "      <td>E65</td>\n",
       "      <td>single-phase</td>\n",
       "      <td>66</td>\n",
       "      <td>67.0</td>\n",
       "      <td>35</td>\n",
       "      <td>LINESTRING (506205.529 4400103.968, 506205.298...</td>\n",
       "    </tr>\n",
       "    <tr>\n",
       "      <th>269</th>\n",
       "      <td>AOI2</td>\n",
       "      <td>Elm</td>\n",
       "      <td>E66</td>\n",
       "      <td>single-phase</td>\n",
       "      <td>67</td>\n",
       "      <td>68.0</td>\n",
       "      <td>35</td>\n",
       "      <td>LINESTRING (506205.298 4400075.244, 506204.820...</td>\n",
       "    </tr>\n",
       "    <tr>\n",
       "      <th>270</th>\n",
       "      <td>AOI2</td>\n",
       "      <td>Congress</td>\n",
       "      <td>C100</td>\n",
       "      <td>three-phase</td>\n",
       "      <td>391</td>\n",
       "      <td>105.0</td>\n",
       "      <td>35</td>\n",
       "      <td>LINESTRING (503192.560 4397686.919, 503220.441...</td>\n",
       "    </tr>\n",
       "  </tbody>\n",
       "</table>\n",
       "<p>270 rows × 8 columns</p>\n",
       "</div>"
      ],
      "text/plain": [
       "    level1    level2 level3   phasingType  pointA  pointB  lineHeightInFt  \\\n",
       "1     AOI2  East12th  EA101   three-phase     206   207.0              35   \n",
       "2     AOI2  East12th  EA102   three-phase     207   209.0              35   \n",
       "3     AOI2  East12th  EA103   three-phase     209   211.0              35   \n",
       "4     AOI2  East12th  EA104   three-phase     211   213.0              35   \n",
       "5     AOI2  East12th  EA105   three-phase     213   406.0              35   \n",
       "..     ...       ...    ...           ...     ...     ...             ...   \n",
       "266   AOI2       Elm    E63  single-phase      64    65.0              35   \n",
       "267   AOI2       Elm    E64  single-phase      65    66.0              35   \n",
       "268   AOI2       Elm    E65  single-phase      66    67.0              35   \n",
       "269   AOI2       Elm    E66  single-phase      67    68.0              35   \n",
       "270   AOI2  Congress   C100   three-phase     391   105.0              35   \n",
       "\n",
       "                                              geometry  \n",
       "1    LINESTRING (505188.789 4398319.902, 505229.010...  \n",
       "2    LINESTRING (505229.010 4398319.412, 505229.638...  \n",
       "3    LINESTRING (505229.638 4398265.080, 505229.506...  \n",
       "4    LINESTRING (505229.506 4398235.136, 505229.746...  \n",
       "5    LINESTRING (505229.746 4398199.608, 505229.932...  \n",
       "..                                                 ...  \n",
       "266  LINESTRING (506204.459 4400170.652, 506206.135...  \n",
       "267  LINESTRING (506206.135 4400139.905, 506205.529...  \n",
       "268  LINESTRING (506205.529 4400103.968, 506205.298...  \n",
       "269  LINESTRING (506205.298 4400075.244, 506204.820...  \n",
       "270  LINESTRING (503192.560 4397686.919, 503220.441...  \n",
       "\n",
       "[270 rows x 8 columns]"
      ]
     },
     "execution_count": 11,
     "metadata": {},
     "output_type": "execute_result"
    }
   ],
   "source": [
    "#drop the row with the N/A  and assign the dataframe a new variable name\n",
    "lines_clean = lines.loc[lines['phasingType'] != 'N/A']\n",
    "\n",
    "validate_client_lines(lines_clean)"
   ]
  },
  {
   "cell_type": "code",
   "execution_count": 12,
   "metadata": {},
   "outputs": [],
   "source": [
    "poles = gpd.read_file('https://storage.googleapis.com/overstory-customer-test/take_home_exercise/demo_poles.geojson')\n",
    "\n",
    "#validate_client_poles(poles)"
   ]
  },
  {
   "cell_type": "code",
   "execution_count": 13,
   "metadata": {},
   "outputs": [
    {
     "data": {
      "text/html": [
       "<div>\n",
       "<style scoped>\n",
       "    .dataframe tbody tr th:only-of-type {\n",
       "        vertical-align: middle;\n",
       "    }\n",
       "\n",
       "    .dataframe tbody tr th {\n",
       "        vertical-align: top;\n",
       "    }\n",
       "\n",
       "    .dataframe thead th {\n",
       "        text-align: right;\n",
       "    }\n",
       "</style>\n",
       "<table border=\"1\" class=\"dataframe\">\n",
       "  <thead>\n",
       "    <tr style=\"text-align: right;\">\n",
       "      <th></th>\n",
       "      <th>level1</th>\n",
       "      <th>heightInFt</th>\n",
       "      <th>poleID</th>\n",
       "      <th>geometry</th>\n",
       "    </tr>\n",
       "  </thead>\n",
       "  <tbody>\n",
       "    <tr>\n",
       "      <th>0</th>\n",
       "      <td>AOI2</td>\n",
       "      <td>35</td>\n",
       "      <td>00001</td>\n",
       "      <td>POINT (506059.544 4400335.804)</td>\n",
       "    </tr>\n",
       "    <tr>\n",
       "      <th>1</th>\n",
       "      <td>AOI2</td>\n",
       "      <td>35</td>\n",
       "      <td>00002</td>\n",
       "      <td>POINT (506106.465 4400335.842)</td>\n",
       "    </tr>\n",
       "    <tr>\n",
       "      <th>2</th>\n",
       "      <td>AOI2</td>\n",
       "      <td>35</td>\n",
       "      <td>00003</td>\n",
       "      <td>POINT (506160.698 4400335.642)</td>\n",
       "    </tr>\n",
       "    <tr>\n",
       "      <th>3</th>\n",
       "      <td>AOI2</td>\n",
       "      <td>35</td>\n",
       "      <td>00004</td>\n",
       "      <td>POINT (506205.816 4400337.059)</td>\n",
       "    </tr>\n",
       "    <tr>\n",
       "      <th>4</th>\n",
       "      <td>AOI2</td>\n",
       "      <td>35</td>\n",
       "      <td>00005</td>\n",
       "      <td>POINT (506261.851 4400336.553)</td>\n",
       "    </tr>\n",
       "  </tbody>\n",
       "</table>\n",
       "</div>"
      ],
      "text/plain": [
       "  level1  heightInFt poleID                        geometry\n",
       "0   AOI2          35  00001  POINT (506059.544 4400335.804)\n",
       "1   AOI2          35  00002  POINT (506106.465 4400335.842)\n",
       "2   AOI2          35  00003  POINT (506160.698 4400335.642)\n",
       "3   AOI2          35  00004  POINT (506205.816 4400337.059)\n",
       "4   AOI2          35  00005  POINT (506261.851 4400336.553)"
      ]
     },
     "execution_count": 13,
     "metadata": {},
     "output_type": "execute_result"
    }
   ],
   "source": [
    "poles.head()"
   ]
  },
  {
   "cell_type": "code",
   "execution_count": 14,
   "metadata": {},
   "outputs": [
    {
     "name": "stdout",
     "output_type": "stream",
     "text": [
      "<class 'geopandas.geodataframe.GeoDataFrame'>\n",
      "RangeIndex: 276 entries, 0 to 275\n",
      "Data columns (total 4 columns):\n",
      " #   Column      Non-Null Count  Dtype   \n",
      "---  ------      --------------  -----   \n",
      " 0   level1      276 non-null    object  \n",
      " 1   heightInFt  276 non-null    int64   \n",
      " 2   poleID      276 non-null    object  \n",
      " 3   geometry    276 non-null    geometry\n",
      "dtypes: geometry(1), int64(1), object(2)\n",
      "memory usage: 8.8+ KB\n"
     ]
    }
   ],
   "source": [
    "poles.info()"
   ]
  },
  {
   "cell_type": "code",
   "execution_count": 15,
   "metadata": {},
   "outputs": [
    {
     "name": "stdout",
     "output_type": "stream",
     "text": [
      "<class 'str'> <class 'numpy.int64'>\n"
     ]
    }
   ],
   "source": [
    "# Rechecking the datatype\n",
    "print(type(poles.loc[0, 'poleID']), type(poles.loc[0, 'heightInFt'])) "
   ]
  },
  {
   "cell_type": "code",
   "execution_count": 17,
   "metadata": {},
   "outputs": [
    {
     "name": "stdout",
     "output_type": "stream",
     "text": [
      "All geometries are Points: True\n"
     ]
    }
   ],
   "source": [
    "# checking if all the geometries in the geometry column are of type \"Point\"\n",
    "def geometry_is_point(geom: gpd.GeoSeries) -> bool:\n",
    "    return (geom.geom_type == \"Point\").all()\n",
    "\n",
    "all_points = geometry_is_point(poles['geometry'])\n",
    "\n",
    "print(f\"All geometries are Points: {all_points}\")"
   ]
  },
  {
   "cell_type": "code",
   "execution_count": 19,
   "metadata": {},
   "outputs": [
    {
     "data": {
      "text/plain": [
       "<Projected CRS: EPSG:32613>\n",
       "Name: WGS 84 / UTM zone 13N\n",
       "Axis Info [cartesian]:\n",
       "- E[east]: Easting (metre)\n",
       "- N[north]: Northing (metre)\n",
       "Area of Use:\n",
       "- name: Between 108°W and 102°W, northern hemisphere between equator and 84°N, onshore and offshore. Canada - Northwest Territories (NWT); Nunavut; Saskatchewan. Mexico. United States (USA).\n",
       "- bounds: (-108.0, 0.0, -102.0, 84.0)\n",
       "Coordinate Operation:\n",
       "- name: UTM zone 13N\n",
       "- method: Transverse Mercator\n",
       "Datum: World Geodetic System 1984 ensemble\n",
       "- Ellipsoid: WGS 84\n",
       "- Prime Meridian: Greenwich"
      ]
     },
     "execution_count": 19,
     "metadata": {},
     "output_type": "execute_result"
    }
   ],
   "source": [
    "poles.crs"
   ]
  },
  {
   "cell_type": "code",
   "execution_count": 18,
   "metadata": {},
   "outputs": [
    {
     "ename": "TypeError",
     "evalue": "'type' object is not subscriptable",
     "output_type": "error",
     "traceback": [
      "\u001b[1;31m---------------------------------------------------------------------------\u001b[0m",
      "\u001b[1;31mTypeError\u001b[0m                                 Traceback (most recent call last)",
      "Cell \u001b[1;32mIn[18], line 1\u001b[0m\n\u001b[1;32m----> 1\u001b[0m \u001b[39mclass\u001b[39;00m \u001b[39mClientPoles\u001b[39;00m(SchemaModel):\n\u001b[0;32m      2\u001b[0m \u001b[39m    \u001b[39m\u001b[39m\"\"\"\u001b[39;00m\n\u001b[0;32m      3\u001b[0m \u001b[39m    Client Poles dataset\u001b[39;00m\n\u001b[0;32m      4\u001b[0m \u001b[39m    \"\"\"\u001b[39;00m\n\u001b[0;32m      6\u001b[0m     geometry: Series[gpd\u001b[39m.\u001b[39marray\u001b[39m.\u001b[39mGeometryDtype]\n",
      "Cell \u001b[1;32mIn[18], line 6\u001b[0m, in \u001b[0;36mClientPoles\u001b[1;34m()\u001b[0m\n\u001b[0;32m      1\u001b[0m \u001b[39mclass\u001b[39;00m \u001b[39mClientPoles\u001b[39;00m(SchemaModel):\n\u001b[0;32m      2\u001b[0m \u001b[39m    \u001b[39m\u001b[39m\"\"\"\u001b[39;00m\n\u001b[0;32m      3\u001b[0m \u001b[39m    Client Poles dataset\u001b[39;00m\n\u001b[0;32m      4\u001b[0m \u001b[39m    \"\"\"\u001b[39;00m\n\u001b[1;32m----> 6\u001b[0m     geometry: Series[gpd\u001b[39m.\u001b[39;49marray\u001b[39m.\u001b[39;49mGeometryDtype]\n\u001b[0;32m      7\u001b[0m     poleID: Series[\u001b[39mstr\u001b[39m] \u001b[39m=\u001b[39m Field(unique\u001b[39m=\u001b[39m\u001b[39mTrue\u001b[39;00m, description\u001b[39m=\u001b[39m\u001b[39m\"\u001b[39m\u001b[39mUnique Pole ID\u001b[39m\u001b[39m\"\u001b[39m)\n\u001b[0;32m      8\u001b[0m     heightInFt: Optional[Series[\u001b[39mint\u001b[39m]] \u001b[39m=\u001b[39m Field(nullable\u001b[39m=\u001b[39m\u001b[39mTrue\u001b[39;00m)\n",
      "\u001b[1;31mTypeError\u001b[0m: 'type' object is not subscriptable"
     ]
    }
   ],
   "source": [
    "\n",
    "\n",
    "class ClientPoles(SchemaModel):\n",
    "    \"\"\"\n",
    "    Client Poles dataset\n",
    "    \"\"\"\n",
    "\n",
    "    geometry: Series[gpd.array.GeometryDtype]\n",
    "    poleID: Series[str] = Field(unique=True, description=\"Unique Pole ID\")\n",
    "    heightInFt: Optional[Series[int]] = Field(nullable=True)\n",
    "    level1: Optional[Series[str]] = Field(nullable=True)\n",
    "\n",
    "    class Config:\n",
    "        name = \"Client Poles\"\n",
    "        description = \"Cleaned client poles dataset\"\n",
    "        unique_column_names = True\n",
    "\n",
    "    @check(\"geometry\", name=\"geometry_is_valid\")\n",
    "    def geometry_is_valid(cls, geom: Series[gpd.array.GeometryDtype]) -> Series[bool]:\n",
    "        return geom.is_valid\n",
    "\n",
    "    @check(\"geometry\", name=\"geometry_is_point\")\n",
    "    def geometry_is_point(\n",
    "        cls, geom: Series[gpd.array.GeometryDtype]\n",
    "    ) -> Series[bool]:\n",
    "        return geom.geom_type == \"Point\"\n",
    "\n",
    "    @dataframe_check\n",
    "    def dataframe_in_utm(cls, gdf: gpd.GeoDataFrame) -> Series[bool]:\n",
    "        \"\"\"Ensure dataframe CRS is in UTM\"\"\"\n",
    "        return gdf.estimate_utm_crs() == gdf.crs"
   ]
  },
  {
   "cell_type": "code",
   "execution_count": null,
   "metadata": {},
   "outputs": [],
   "source": [
    "#validate_client_poles(poles)"
   ]
  },
  {
   "cell_type": "code",
   "execution_count": null,
   "metadata": {},
   "outputs": [],
   "source": []
  }
 ],
 "metadata": {
  "kernelspec": {
   "display_name": "GeoAI",
   "language": "python",
   "name": "python3"
  },
  "language_info": {
   "codemirror_mode": {
    "name": "ipython",
    "version": 3
   },
   "file_extension": ".py",
   "mimetype": "text/x-python",
   "name": "python",
   "nbconvert_exporter": "python",
   "pygments_lexer": "ipython3",
   "version": "3.10.11"
  },
  "orig_nbformat": 4
 },
 "nbformat": 4,
 "nbformat_minor": 2
}
