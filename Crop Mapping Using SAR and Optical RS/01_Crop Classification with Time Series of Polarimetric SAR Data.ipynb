{
 "cells": [
  {
   "attachments": {},
   "cell_type": "markdown",
   "metadata": {},
   "source": [
    "### Identifying crops with polarimetric SAR (PolSAR) time series from Sentinel-1 using Random Forest and other Machine Learning algorithms in Python Jupyter Notebook\n",
    "\n",
    "#### Objectives\n",
    "\n",
    "1. Run code for ML of multitemporal PolSAR data\n",
    "\n",
    "2. Pre-process PolSAR data for using Machine Learning \n",
    "\n",
    "3. Format the data in feature vectors\n",
    "\n",
    "4. Run random forest and K-Means classifier\n",
    "\n",
    "5. Evaluate classifier's accuracy"
   ]
  },
  {
   "cell_type": "code",
   "execution_count": 1,
   "metadata": {},
   "outputs": [],
   "source": [
    "# Before processing --> calibrate the data, apply the orbit file, make a subset, provide the covariance matrix\n",
    "# multilook 4x1 to make the pixel more squired, co-register the stack and geocode the images\n",
    "#data = data_dir +'\\Code\\Code'\n",
    "#print(os.listdir(data))\n",
    "\n",
    "import numpy as np\n",
    "import matplotlib.pyplot as pl\n",
    "from scipy import signal\n",
    "import math "
   ]
  },
  {
   "cell_type": "code",
   "execution_count": 3,
   "metadata": {},
   "outputs": [
    {
     "name": "stdout",
     "output_type": "stream",
     "text": [
      "['Code', 'Code.zip', 'Cubes', 'Cubes.zip', 'Imagery', 'Imagery.zip', 'S1B_IW_SLC__1SDV_20190727T002316_20190727T002343_017312_0208E8_9A56-001.zip', 'S1B_IW_SLC__1SDV_20190727T002316_20190727T002343_017312_0208E8_9A56.iso.xml', 'vector_data', 'vector_data.zip']\n"
     ]
    }
   ],
   "source": [
    "\n",
    "import os\n",
    "from IPython.display import Image\n",
    "\n",
    "# Set the directory path\n",
    "data_dir = r\"D:\\01_Personal_Projects\\Projects2023\\All_Data\\Nasa_ARSET\\02_Crop_Mapping_Using_SAR_OpticalRS\"\n",
    "# Get the list of files in the directory\n",
    "print(os.listdir(data_dir))"
   ]
  }
 ],
 "metadata": {
  "kernelspec": {
   "display_name": "GeoAI",
   "language": "python",
   "name": "python3"
  },
  "language_info": {
   "codemirror_mode": {
    "name": "ipython",
    "version": 3
   },
   "file_extension": ".py",
   "mimetype": "text/x-python",
   "name": "python",
   "nbconvert_exporter": "python",
   "pygments_lexer": "ipython3",
   "version": "3.10.11"
  },
  "orig_nbformat": 4
 },
 "nbformat": 4,
 "nbformat_minor": 2
}
